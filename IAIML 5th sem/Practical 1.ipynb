{
 "cells": [
  {
   "cell_type": "code",
   "execution_count": 1,
   "metadata": {},
   "outputs": [],
   "source": [
    "import numpy as np\n"
   ]
  },
  {
   "cell_type": "code",
   "execution_count": 2,
   "metadata": {},
   "outputs": [],
   "source": [
    "rows, cols = (5, 5)"
   ]
  },
  {
   "cell_type": "code",
   "execution_count": 3,
   "metadata": {},
   "outputs": [],
   "source": [
    "arr = [[0]*cols]*rows"
   ]
  },
  {
   "cell_type": "code",
   "execution_count": 4,
   "metadata": {},
   "outputs": [
    {
     "name": "stdout",
     "output_type": "stream",
     "text": [
      "[0, 0, 0, 0, 0]\n",
      "[0, 0, 0, 0, 0]\n",
      "[0, 0, 0, 0, 0]\n",
      "[0, 0, 0, 0, 0]\n",
      "[0, 0, 0, 0, 0]\n"
     ]
    }
   ],
   "source": [
    "for row in arr:\n",
    "    print(row)\n",
    " \n"
   ]
  },
  {
   "cell_type": "code",
   "execution_count": 5,
   "metadata": {},
   "outputs": [],
   "source": [
    "arr[1][0] = 1"
   ]
  },
  {
   "cell_type": "code",
   "execution_count": 6,
   "metadata": {},
   "outputs": [
    {
     "name": "stdout",
     "output_type": "stream",
     "text": [
      "[1, 0, 0, 0, 0]\n",
      "[1, 0, 0, 0, 0]\n",
      "[1, 0, 0, 0, 0]\n",
      "[1, 0, 0, 0, 0]\n",
      "[1, 0, 0, 0, 0]\n"
     ]
    }
   ],
   "source": [
    "for row in arr:\n",
    "    print(row)"
   ]
  },
  {
   "cell_type": "code",
   "execution_count": 7,
   "metadata": {},
   "outputs": [],
   "source": [
    "import pandas as pd"
   ]
  },
  {
   "cell_type": "code",
   "execution_count": 8,
   "metadata": {},
   "outputs": [],
   "source": [
    "data = [10,20,30,40,50,60]\n",
    "df = pd.DataFrame(data, columns=['Numbers'])"
   ]
  },
  {
   "cell_type": "code",
   "execution_count": 9,
   "metadata": {},
   "outputs": [
    {
     "data": {
      "text/html": [
       "<div>\n",
       "<style scoped>\n",
       "    .dataframe tbody tr th:only-of-type {\n",
       "        vertical-align: middle;\n",
       "    }\n",
       "\n",
       "    .dataframe tbody tr th {\n",
       "        vertical-align: top;\n",
       "    }\n",
       "\n",
       "    .dataframe thead th {\n",
       "        text-align: right;\n",
       "    }\n",
       "</style>\n",
       "<table border=\"1\" class=\"dataframe\">\n",
       "  <thead>\n",
       "    <tr style=\"text-align: right;\">\n",
       "      <th></th>\n",
       "      <th>Numbers</th>\n",
       "    </tr>\n",
       "  </thead>\n",
       "  <tbody>\n",
       "    <tr>\n",
       "      <th>0</th>\n",
       "      <td>10</td>\n",
       "    </tr>\n",
       "    <tr>\n",
       "      <th>1</th>\n",
       "      <td>20</td>\n",
       "    </tr>\n",
       "    <tr>\n",
       "      <th>2</th>\n",
       "      <td>30</td>\n",
       "    </tr>\n",
       "    <tr>\n",
       "      <th>3</th>\n",
       "      <td>40</td>\n",
       "    </tr>\n",
       "    <tr>\n",
       "      <th>4</th>\n",
       "      <td>50</td>\n",
       "    </tr>\n",
       "    <tr>\n",
       "      <th>5</th>\n",
       "      <td>60</td>\n",
       "    </tr>\n",
       "  </tbody>\n",
       "</table>\n",
       "</div>"
      ],
      "text/plain": [
       "   Numbers\n",
       "0       10\n",
       "1       20\n",
       "2       30\n",
       "3       40\n",
       "4       50\n",
       "5       60"
      ]
     },
     "execution_count": 9,
     "metadata": {},
     "output_type": "execute_result"
    }
   ],
   "source": [
    "df\n"
   ]
  },
  {
   "cell_type": "code",
   "execution_count": 10,
   "metadata": {},
   "outputs": [],
   "source": [
    "import matplotlib.pyplot as plt"
   ]
  },
  {
   "cell_type": "code",
   "execution_count": 11,
   "metadata": {},
   "outputs": [
    {
     "data": {
      "text/plain": [
       "[<matplotlib.lines.Line2D at 0x5b0616aeb8>]"
      ]
     },
     "execution_count": 11,
     "metadata": {},
     "output_type": "execute_result"
    },
    {
     "data": {
      "image/png": "[encoded data removed]",
      "text/plain": [
       "<Figure size 432x288 with 1 Axes>"
      ]
     },
     "metadata": {
      "needs_background": "light"
     },
     "output_type": "display_data"
    }
   ],
   "source": [
    "plt.plot(df)"
   ]
  },
  {
   "cell_type": "code",
   "execution_count": 12,
   "metadata": {},
   "outputs": [],
   "source": [
    "from scipy import misc\n",
    "import imageio\n",
    "import matplotlib.pyplot as plt"
   ]
  },
  {
   "cell_type": "code",
   "execution_count": 15,
   "metadata": {},
   "outputs": [],
   "source": [
    "img = imageio.imread('ironman.png')"
   ]
  },
  {
   "cell_type": "code",
   "execution_count": 16,
   "metadata": {},
   "outputs": [
    {
     "data": {
      "image/png": "[encoded data removed]",
      "text/plain": [
       "<Figure size 432x288 with 1 Axes>"
      ]
     },
     "metadata": {
      "needs_background": "light"
     },
     "output_type": "display_data"
    }
   ],
   "source": [
    "plt.imshow(img)\n",
    "plt.show()"
   ]
  },
  {
   "cell_type": "code",
   "execution_count": 17,
   "metadata": {},
   "outputs": [
    {
     "name": "stdout",
     "output_type": "stream",
     "text": [
      "[                                         Bank NameBank            CityCity  \\\n",
      "0                             Heartland Tri-State Bank             Elkhart   \n",
      "1                                  First Republic Bank       San Francisco   \n",
      "2                                       Signature Bank            New York   \n",
      "3                                  Silicon Valley Bank         Santa Clara   \n",
      "4                                    Almena State Bank              Almena   \n",
      "5                           First City Bank of Florida   Fort Walton Beach   \n",
      "6                                 The First State Bank       Barboursville   \n",
      "7                                   Ericson State Bank             Ericson   \n",
      "8                     City National Bank of New Jersey              Newark   \n",
      "9                                        Resolute Bank              Maumee   \n",
      "10                               Louisa Community Bank              Louisa   \n",
      "11                                The Enloe State Bank              Cooper   \n",
      "12                 Washington Federal Bank for Savings             Chicago   \n",
      "13     The Farmers and Merchants State Bank of Argonia             Argonia   \n",
      "14                                 Fayette County Bank          Saint Elmo   \n",
      "15   Guaranty Bank, (d/b/a BestBank in Georgia & Mi...           Milwaukee   \n",
      "16                                      First NBC Bank         New Orleans   \n",
      "17                                       Proficio Bank  Cottonwood Heights   \n",
      "18                       Seaway Bank and Trust Company             Chicago   \n",
      "19                              Harvest Community Bank          Pennsville   \n",
      "20                                         Allied Bank            Mulberry   \n",
      "21                        The Woodbury Banking Company            Woodbury   \n",
      "22                              First CornerStone Bank     King of Prussia   \n",
      "23                                  Trust Company Bank             Memphis   \n",
      "24                          North Milwaukee State Bank           Milwaukee   \n",
      "25                              Hometown National Bank            Longview   \n",
      "26                                 The Bank of Georgia      Peachtree City   \n",
      "27                                        Premier Bank              Denver   \n",
      "28                                      Edgebrook Bank             Chicago   \n",
      "29                              Doral Bank  En Español            San Juan   \n",
      "..                                                 ...                 ...   \n",
      "537                                  ANB Financial, NA         Bentonville   \n",
      "538                                          Hume Bank                Hume   \n",
      "539                             Douglass National Bank         Kansas City   \n",
      "540                                  Miami Valley Bank            Lakeview   \n",
      "541                                            NetBank          Alpharetta   \n",
      "542                          Metropolitan Savings Bank          Pittsburgh   \n",
      "543                                    Bank of Ephraim             Ephraim   \n",
      "544                                      Reliance Bank        White Plains   \n",
      "545              Guaranty National Bank of Tallahassee         Tallahassee   \n",
      "546                                Dollar Savings Bank              Newark   \n",
      "547                               Pulaski Savings Bank        Philadelphia   \n",
      "548              First National Bank of Blanchardville      Blanchardville   \n",
      "549                              Southern Pacific Bank            Torrance   \n",
      "550                        Farmers Bank of Cheneyville         Cheneyville   \n",
      "551                                      Bank of Alamo               Alamo   \n",
      "552             AmTrade International Bank  En Español             Atlanta   \n",
      "553                     Universal Federal Savings Bank             Chicago   \n",
      "554                       Connecticut Bank of Commerce            Stamford   \n",
      "555                                   New Century Bank     Shelby Township   \n",
      "556                              Net 1st National Bank          Boca Raton   \n",
      "557                                       NextBank, NA             Phoenix   \n",
      "558                           Oakwood Deposit Bank Co.             Oakwood   \n",
      "559                              Bank of Sierra Blanca       Sierra Blanca   \n",
      "560                      Hamilton Bank, NA  En Español               Miami   \n",
      "561                             Sinclair National Bank            Gravette   \n",
      "562                                 Superior Bank, FSB            Hinsdale   \n",
      "563                                Malta National Bank               Malta   \n",
      "564                    First Alliance Bank & Trust Co.          Manchester   \n",
      "565                  National State Bank of Metropolis          Metropolis   \n",
      "566                                   Bank of Honolulu            Honolulu   \n",
      "\n",
      "    StateSt  CertCert              Acquiring InstitutionAI  \\\n",
      "0        KS     25851               Dream First Bank, N.A.   \n",
      "1        CA     59017            JPMorgan Chase Bank, N.A.   \n",
      "2        NY     57053                  Flagstar Bank, N.A.   \n",
      "3        CA     24735  First–Citizens Bank & Trust Company   \n",
      "4        KS     15426                          Equity Bank   \n",
      "5        FL     16748            United Fidelity Bank, fsb   \n",
      "6        WV     14361                       MVB Bank, Inc.   \n",
      "7        NE     18265           Farmers and Merchants Bank   \n",
      "8        NJ     21111                      Industrial Bank   \n",
      "9        OH     58317                   Buckeye State Bank   \n",
      "10       KY     58112    Kentucky Farmers Bank Corporation   \n",
      "11       TX     10716                   Legend Bank, N. A.   \n",
      "12       IL     30570                   Royal Savings Bank   \n",
      "13       KS     17719                          Conway Bank   \n",
      "14       IL      1802            United Fidelity Bank, fsb   \n",
      "15       WI     30003  First-Citizens Bank & Trust Company   \n",
      "16       LA     58302                         Whitney Bank   \n",
      "17       UT     35495                    Cache Valley Bank   \n",
      "18       IL     19328                  State Bank of Texas   \n",
      "19       NJ     34951  First-Citizens Bank & Trust Company   \n",
      "20       AR        91                         Today's Bank   \n",
      "21       GA     11297                          United Bank   \n",
      "22       PA     35312  First-Citizens Bank & Trust Company   \n",
      "23       TN      9956           The Bank of Fayette County   \n",
      "24       WI     20364  First-Citizens Bank & Trust Company   \n",
      "25       WA     35156                       Twin City Bank   \n",
      "26       GA     35259                        Fidelity Bank   \n",
      "27       CO     34112            United Fidelity Bank, fsb   \n",
      "28       IL     57772             Republic Bank of Chicago   \n",
      "29       PR     32102         Banco Popular de Puerto Rico   \n",
      "..      ...       ...                                  ...   \n",
      "537      AR     33901       Pulaski Bank and Trust Company   \n",
      "538      MO      1971                        Security Bank   \n",
      "539      MO     24660       Liberty Bank and Trust Company   \n",
      "540      OH     16848         The Citizens Banking Company   \n",
      "541      GA     32575                           ING DIRECT   \n",
      "542      PA     35353  Allegheny Valley Bank of Pittsburgh   \n",
      "543      UT      1249                        Far West Bank   \n",
      "544      NY     26778                     Union State Bank   \n",
      "545      FL     26838              Hancock Bank of Florida   \n",
      "546      NJ     31330                          No Acquirer   \n",
      "547      PA     27203                       Earthstar Bank   \n",
      "548      WI     11639                        The Park Bank   \n",
      "549      CA     27094                            Beal Bank   \n",
      "550      LA     16445            Sabine State Bank & Trust   \n",
      "551      TN      9961                          No Acquirer   \n",
      "552      GA     33784                          No Acquirer   \n",
      "553      IL     29355               Chicago Community Bank   \n",
      "554      CT     19183                   Hudson United Bank   \n",
      "555      MI     34979                          No Acquirer   \n",
      "556      FL     26652                       Bank Leumi USA   \n",
      "557      AZ     22314                          No Acquirer   \n",
      "558      OH      8966       The State Bank & Trust Company   \n",
      "559      TX     22002     The Security State Bank of Pecos   \n",
      "560      FL     24382     Israel Discount Bank of New York   \n",
      "561      AR     34248                   Delta Trust & Bank   \n",
      "562      IL     32646                Superior Federal, FSB   \n",
      "563      OH      6629                    North Valley Bank   \n",
      "564      NH     34264  Southern New Hampshire Bank & Trust   \n",
      "565      IL      3815              Banterra Bank of Marion   \n",
      "566      HI     21029                   Bank of the Orient   \n",
      "\n",
      "    Closing DateClosing  FundFund  \n",
      "0         July 28, 2023     10544  \n",
      "1           May 1, 2023     10543  \n",
      "2        March 12, 2023     10540  \n",
      "3        March 10, 2023     10539  \n",
      "4      October 23, 2020     10538  \n",
      "5      October 16, 2020     10537  \n",
      "6         April 3, 2020     10536  \n",
      "7     February 14, 2020     10535  \n",
      "8      November 1, 2019     10534  \n",
      "9      October 25, 2019     10533  \n",
      "10     October 25, 2019     10532  \n",
      "11         May 31, 2019     10531  \n",
      "12    December 15, 2017     10530  \n",
      "13     October 13, 2017     10529  \n",
      "14         May 26, 2017     10528  \n",
      "15          May 5, 2017     10527  \n",
      "16       April 28, 2017     10526  \n",
      "17        March 3, 2017     10525  \n",
      "18     January 27, 2017     10524  \n",
      "19     January 13, 2017     10523  \n",
      "20   September 23, 2016     10522  \n",
      "21      August 19, 2016     10521  \n",
      "22          May 6, 2016     10520  \n",
      "23       April 29, 2016     10519  \n",
      "24       March 11, 2016     10518  \n",
      "25      October 2, 2015     10517  \n",
      "26      October 2, 2015     10516  \n",
      "27        July 10, 2015     10515  \n",
      "28          May 8, 2015     10514  \n",
      "29    February 27, 2015     10513  \n",
      "..                  ...       ...  \n",
      "537         May 9, 2008     10005  \n",
      "538       March 7, 2008     10004  \n",
      "539    January 25, 2008     10003  \n",
      "540     October 4, 2007     10002  \n",
      "541  September 28, 2007     10001  \n",
      "542    February 2, 2007     10000  \n",
      "543       June 25, 2004      4665  \n",
      "544      March 19, 2004      4664  \n",
      "545      March 12, 2004      4663  \n",
      "546   February 14, 2004      6006  \n",
      "547   November 14, 2003      4662  \n",
      "548         May 9, 2003      4661  \n",
      "549    February 7, 2003      4660  \n",
      "550   December 17, 2002      4659  \n",
      "551    November 8, 2002      4658  \n",
      "552  September 30, 2002      4657  \n",
      "553       June 27, 2002      6005  \n",
      "554       June 26, 2002      4656  \n",
      "555      March 28, 2002      4655  \n",
      "556       March 1, 2002      4654  \n",
      "557    February 7, 2002      4653  \n",
      "558    February 1, 2002      4652  \n",
      "559    January 18, 2002      4651  \n",
      "560    January 11, 2002      4650  \n",
      "561   September 7, 2001      4649  \n",
      "562       July 27, 2001      6004  \n",
      "563         May 3, 2001      4648  \n",
      "564    February 2, 2001      4647  \n",
      "565   December 14, 2000      4646  \n",
      "566    October 13, 2000      4645  \n",
      "\n",
      "[567 rows x 7 columns]]\n"
     ]
    }
   ],
   "source": [
    "import pandas as pd\n",
    "df=pd.read_html(\"https://www.fdic.gov/resources/resolutions/bank-failures/failed-bank-list/\")\n",
    "print(df)"
   ]
  },
  {
   "cell_type": "code",
   "execution_count": 19,
   "metadata": {
    "scrolled": true
   },
   "outputs": [
    {
     "name": "stdout",
     "output_type": "stream",
     "text": [
      "   Unnamed: 0      bike Date_of_purchase\n",
      "0           0     honda       2020-10-10\n",
      "1           1     shine       2020-10-12\n",
      "2           2       bmw       2020-10-17\n",
      "3           3  splender       2020-10-16\n",
      "4           4     Rx100       2020-10-19\n",
      "5           5     Rx200       2020-10-22\n"
     ]
    }
   ],
   "source": [
    "import pandas as pd\n",
    "df=pd.read_csv(\"abc.csv\")\n",
    "print(df)"
   ]
  },
  {
   "cell_type": "code",
   "execution_count": 27,
   "metadata": {},
   "outputs": [
    {
     "name": "stdout",
     "output_type": "stream",
     "text": [
      "                              Country         Region\n",
      "0                             Algeria         AFRICA\n",
      "1                              Angola         AFRICA\n",
      "2                               Benin         AFRICA\n",
      "3                            Botswana         AFRICA\n",
      "4                             Burkina         AFRICA\n",
      "5                             Burundi         AFRICA\n",
      "6                            Cameroon         AFRICA\n",
      "7                          Cape Verde         AFRICA\n",
      "8            Central African Republic         AFRICA\n",
      "9                                Chad         AFRICA\n",
      "10                            Comoros         AFRICA\n",
      "11                              Congo         AFRICA\n",
      "12      Congo, Democratic Republic of         AFRICA\n",
      "13                           Djibouti         AFRICA\n",
      "14                              Egypt         AFRICA\n",
      "15                  Equatorial Guinea         AFRICA\n",
      "16                            Eritrea         AFRICA\n",
      "17                           Ethiopia         AFRICA\n",
      "18                              Gabon         AFRICA\n",
      "19                             Gambia         AFRICA\n",
      "20                              Ghana         AFRICA\n",
      "21                             Guinea         AFRICA\n",
      "22                      Guinea-Bissau         AFRICA\n",
      "23                        Ivory Coast         AFRICA\n",
      "24                              Kenya         AFRICA\n",
      "25                            Lesotho         AFRICA\n",
      "26                            Liberia         AFRICA\n",
      "27                              Libya         AFRICA\n",
      "28                         Madagascar         AFRICA\n",
      "29                             Malawi         AFRICA\n",
      "..                                ...            ...\n",
      "164                       Saint Lucia  NORTH AMERICA\n",
      "165  Saint Vincent and the Grenadines  NORTH AMERICA\n",
      "166               Trinidad and Tobago  NORTH AMERICA\n",
      "167                     United States  NORTH AMERICA\n",
      "168                         Australia        OCEANIA\n",
      "169                              Fiji        OCEANIA\n",
      "170                          Kiribati        OCEANIA\n",
      "171                  Marshall Islands        OCEANIA\n",
      "172                        Micronesia        OCEANIA\n",
      "173                             Nauru        OCEANIA\n",
      "174                       New Zealand        OCEANIA\n",
      "175                             Palau        OCEANIA\n",
      "176                  Papua New Guinea        OCEANIA\n",
      "177                             Samoa        OCEANIA\n",
      "178                   Solomon Islands        OCEANIA\n",
      "179                             Tonga        OCEANIA\n",
      "180                            Tuvalu        OCEANIA\n",
      "181                           Vanuatu        OCEANIA\n",
      "182                         Argentina  SOUTH AMERICA\n",
      "183                           Bolivia  SOUTH AMERICA\n",
      "184                            Brazil  SOUTH AMERICA\n",
      "185                             Chile  SOUTH AMERICA\n",
      "186                          Colombia  SOUTH AMERICA\n",
      "187                           Ecuador  SOUTH AMERICA\n",
      "188                            Guyana  SOUTH AMERICA\n",
      "189                          Paraguay  SOUTH AMERICA\n",
      "190                              Peru  SOUTH AMERICA\n",
      "191                          Suriname  SOUTH AMERICA\n",
      "192                           Uruguay  SOUTH AMERICA\n",
      "193                         Venezuela  SOUTH AMERICA\n",
      "\n",
      "[194 rows x 2 columns]\n"
     ]
    }
   ],
   "source": [
    "import pandas as pd\n",
    "df=pd.read_csv(\"https://raw.githubusercontent.com/cs109/2014_data/master/countries.csv\")\n",
    "print(df)"
   ]
  },
  {
   "cell_type": "code",
   "execution_count": 25,
   "metadata": {},
   "outputs": [],
   "source": [
    "array = np.array([[1, 1, 1], [2, 4, 8], [3, 9, 27],[4, 16, 64], [5, 25, 125] ])\n",
    "index_values = ['first', 'second', 'third','fourth', 'fifth']\n",
    "\n",
    "column_values = ['number', 'squares', 'cubes']\n",
    "\n",
    "df = pd.DataFrame(data = array,index = index_values,columns = column_values)"
   ]
  },
  {
   "cell_type": "code",
   "execution_count": 26,
   "metadata": {},
   "outputs": [
    {
     "data": {
      "text/html": [
       "<div>\n",
       "<style scoped>\n",
       "    .dataframe tbody tr th:only-of-type {\n",
       "        vertical-align: middle;\n",
       "    }\n",
       "\n",
       "    .dataframe tbody tr th {\n",
       "        vertical-align: top;\n",
       "    }\n",
       "\n",
       "    .dataframe thead th {\n",
       "        text-align: right;\n",
       "    }\n",
       "</style>\n",
       "<table border=\"1\" class=\"dataframe\">\n",
       "  <thead>\n",
       "    <tr style=\"text-align: right;\">\n",
       "      <th></th>\n",
       "      <th>number</th>\n",
       "      <th>squares</th>\n",
       "      <th>cubes</th>\n",
       "    </tr>\n",
       "  </thead>\n",
       "  <tbody>\n",
       "    <tr>\n",
       "      <th>first</th>\n",
       "      <td>1</td>\n",
       "      <td>1</td>\n",
       "      <td>1</td>\n",
       "    </tr>\n",
       "    <tr>\n",
       "      <th>second</th>\n",
       "      <td>2</td>\n",
       "      <td>4</td>\n",
       "      <td>8</td>\n",
       "    </tr>\n",
       "    <tr>\n",
       "      <th>third</th>\n",
       "      <td>3</td>\n",
       "      <td>9</td>\n",
       "      <td>27</td>\n",
       "    </tr>\n",
       "    <tr>\n",
       "      <th>fourth</th>\n",
       "      <td>4</td>\n",
       "      <td>16</td>\n",
       "      <td>64</td>\n",
       "    </tr>\n",
       "    <tr>\n",
       "      <th>fifth</th>\n",
       "      <td>5</td>\n",
       "      <td>25</td>\n",
       "      <td>125</td>\n",
       "    </tr>\n",
       "  </tbody>\n",
       "</table>\n",
       "</div>"
      ],
      "text/plain": [
       "        number  squares  cubes\n",
       "first        1        1      1\n",
       "second       2        4      8\n",
       "third        3        9     27\n",
       "fourth       4       16     64\n",
       "fifth        5       25    125"
      ]
     },
     "execution_count": 26,
     "metadata": {},
     "output_type": "execute_result"
    }
   ],
   "source": [
    "df\n"
   ]
  },
  {
   "cell_type": "code",
   "execution_count": 33,
   "metadata": {},
   "outputs": [
    {
     "name": "stdout",
     "output_type": "stream",
     "text": [
      "            0              1\n",
      "3     Roll No        Room No\n",
      "4    22CSU253  Tinkering Lab\n",
      "5    22CSU399  Tinkering Lab\n",
      "6    22CSU121  Tinkering Lab\n",
      "7    22CSU382  Tinkering Lab\n",
      "8    22CSU497  Tinkering Lab\n",
      "9    22CSU399  Tinkering Lab\n",
      "10   22CSU502  Tinkering Lab\n",
      "11   22CSU177  Tinkering Lab\n",
      "12   22CSU156  Tinkering Lab\n",
      "13   22CSU179  Tinkering Lab\n",
      "14   22CSU385  Tinkering Lab\n",
      "15   22CSU399  Tinkering Lab\n",
      "16   21CSU428  Tinkering Lab\n",
      "17   22CSU179  Tinkering Lab\n",
      "18   22CSU370  Tinkering Lab\n",
      "19   22CSU040  Tinkering Lab\n",
      "20   22CSU369  Tinkering Lab\n",
      "21   22CSU067  Tinkering Lab\n",
      "22   22CSU432  Tinkering Lab\n",
      "23   22CSU435  Tinkering Lab\n",
      "24   22CSU424  Tinkering Lab\n",
      "25   22CSU375  Tinkering Lab\n",
      "26   22CSU432  Tinkering Lab\n",
      "27   22CSU410  Tinkering Lab\n",
      "28   22CSU435  Tinkering Lab\n",
      "29   22CSU424  Tinkering Lab\n",
      "30   22CSU040  Tinkering Lab\n",
      "31   22CSU392  Tinkering Lab\n",
      "32   22CSU081  Tinkering Lab\n",
      "..        ...            ...\n",
      "188  19CSU320  Tinkering Lab\n",
      "189  19CSU349  Tinkering Lab\n",
      "190  19CSU372  Tinkering Lab\n",
      "191  19CSU378  Tinkering Lab\n",
      "192     F1373  Tinkering Lab\n",
      "193  20BSP008  Tinkering Lab\n",
      "194  20BSP006  Tinkering Lab\n",
      "195  20BSP005  Tinkering Lab\n",
      "196  20BSP009  Tinkering Lab\n",
      "197  20BSP004  Tinkering Lab\n",
      "198     F1373  Tinkering Lab\n",
      "199    PYL310  Tinkering Lab\n",
      "200  19CSU337  Tinkering Lab\n",
      "201  19CSU378  Tinkering Lab\n",
      "202  20CSU138  Tinkering Lab\n",
      "203  20CSU271  Tinkering Lab\n",
      "204  19CSU349  Tinkering Lab\n",
      "205  19CSU320  Tinkering Lab\n",
      "206  19CSU337  Tinkering Lab\n",
      "207  19CSU378  Tinkering Lab\n",
      "208  19CSU287  Tinkering Lab\n",
      "209  19CSU303  Tinkering Lab\n",
      "210     F1373  Tinkering Lab\n",
      "211  20BSP004  Tinkering Lab\n",
      "212  20BSP006  Tinkering Lab\n",
      "213  20BSP009  Tinkering Lab\n",
      "214     F1373  Tinkering Lab\n",
      "215    PYL310  Tinkering Lab\n",
      "216  19CSU287  Tinkering Lab\n",
      "217  19CSU303  Tinkering Lab\n",
      "\n",
      "[215 rows x 2 columns]\n"
     ]
    }
   ],
   "source": [
    "import pandas as pd\n",
    "#tables=pd.read_html('http://biometric.local.ncuindia.edu/machinerawpunch_Logs/room?date1=01-Jan-2023+06%3A15%3A00&date2=31-Jan-2023+20%3A15%3A00&SearchType=Tinkering+Lab+++++++++++++++++++++++++++++++++++++')\n",
    "\n",
    "tables=pd.read_html('http://biometric.local.ncuindia.edu/machinerawpunch_Logs/room?date1=01-Jan-2023+06%3A15%3A00&date2=23-Jun-2023+20%3A15%3A00&SearchType=Tinkering+Lab+++++++++++++++++++++++++++++++++++++')\n",
    "t=tables[0]\n",
    "\n",
    "df1=t.iloc[3:,[0,1]]\n",
    "print(df1)"
   ]
  },
  {
   "cell_type": "code",
   "execution_count": 43,
   "metadata": {},
   "outputs": [
    {
     "name": "stdout",
     "output_type": "stream",
     "text": [
      "               0          3\n",
      "2    Start Date:  End Date:\n",
      "3        Roll No        NaN\n",
      "4       22CSU253        NaN\n",
      "5       22CSU399        NaN\n",
      "6       22CSU121        NaN\n",
      "7       22CSU382        NaN\n",
      "8       22CSU497        NaN\n",
      "9       22CSU399        NaN\n",
      "10      22CSU502        NaN\n",
      "11      22CSU177        NaN\n",
      "12      22CSU156        NaN\n",
      "13      22CSU179        NaN\n",
      "14      22CSU385        NaN\n",
      "15      22CSU399        NaN\n",
      "16      21CSU428        NaN\n",
      "17      22CSU179        NaN\n",
      "18      22CSU370        NaN\n",
      "19      22CSU040        NaN\n",
      "20      22CSU369        NaN\n",
      "21      22CSU067        NaN\n",
      "22      22CSU432        NaN\n",
      "23      22CSU435        NaN\n",
      "24      22CSU424        NaN\n",
      "25      22CSU375        NaN\n",
      "26      22CSU432        NaN\n",
      "27      22CSU410        NaN\n",
      "28      22CSU435        NaN\n",
      "29      22CSU424        NaN\n",
      "30      22CSU040        NaN\n",
      "31      22CSU392        NaN\n",
      "..           ...        ...\n",
      "188     19CSU320        NaN\n",
      "189     19CSU349        NaN\n",
      "190     19CSU372        NaN\n",
      "191     19CSU378        NaN\n",
      "192        F1373        NaN\n",
      "193     20BSP008        NaN\n",
      "194     20BSP006        NaN\n",
      "195     20BSP005        NaN\n",
      "196     20BSP009        NaN\n",
      "197     20BSP004        NaN\n",
      "198        F1373        NaN\n",
      "199       PYL310        NaN\n",
      "200     19CSU337        NaN\n",
      "201     19CSU378        NaN\n",
      "202     20CSU138        NaN\n",
      "203     20CSU271        NaN\n",
      "204     19CSU349        NaN\n",
      "205     19CSU320        NaN\n",
      "206     19CSU337        NaN\n",
      "207     19CSU378        NaN\n",
      "208     19CSU287        NaN\n",
      "209     19CSU303        NaN\n",
      "210        F1373        NaN\n",
      "211     20BSP004        NaN\n",
      "212     20BSP006        NaN\n",
      "213     20BSP009        NaN\n",
      "214        F1373        NaN\n",
      "215       PYL310        NaN\n",
      "216     19CSU287        NaN\n",
      "217     19CSU303        NaN\n",
      "\n",
      "[216 rows x 2 columns]\n"
     ]
    }
   ],
   "source": [
    "df1 = t.loc[2:,[0,3]]\n",
    "print(df1)"
   ]
  },
  {
   "cell_type": "code",
   "execution_count": 44,
   "metadata": {},
   "outputs": [
    {
     "ename": "AttributeError",
     "evalue": "'DataFrame' object has no attribute 'to_numpy'",
     "output_type": "error",
     "traceback": [
      "\u001b[1;31m---------------------------------------------------------------------------\u001b[0m",
      "\u001b[1;31mAttributeError\u001b[0m                            Traceback (most recent call last)",
      "\u001b[1;32m<ipython-input-44-88b8ce511323>\u001b[0m in \u001b[0;36m<module>\u001b[1;34m()\u001b[0m\n\u001b[0;32m      6\u001b[0m \u001b[1;33m\u001b[0m\u001b[0m\n\u001b[0;32m      7\u001b[0m \u001b[1;33m\u001b[0m\u001b[0m\n\u001b[1;32m----> 8\u001b[1;33m \u001b[0marr1\u001b[0m \u001b[1;33m=\u001b[0m \u001b[0mdf\u001b[0m\u001b[1;33m.\u001b[0m\u001b[0mto_numpy\u001b[0m\u001b[1;33m(\u001b[0m\u001b[1;33m)\u001b[0m\u001b[1;33m\u001b[0m\u001b[0m\n\u001b[0m\u001b[0;32m      9\u001b[0m \u001b[1;33m\u001b[0m\u001b[0m\n\u001b[0;32m     10\u001b[0m \u001b[0mprint\u001b[0m\u001b[1;33m(\u001b[0m\u001b[1;34m'Numpy Array:\\n'\u001b[0m\u001b[1;33m,\u001b[0m \u001b[0marr1\u001b[0m\u001b[1;33m)\u001b[0m\u001b[1;33m\u001b[0m\u001b[0m\n",
      "\u001b[1;32m~\\Anaconda3\\lib\\site-packages\\pandas\\core\\generic.py\u001b[0m in \u001b[0;36m__getattr__\u001b[1;34m(self, name)\u001b[0m\n\u001b[0;32m   4374\u001b[0m             \u001b[1;32mif\u001b[0m \u001b[0mself\u001b[0m\u001b[1;33m.\u001b[0m\u001b[0m_info_axis\u001b[0m\u001b[1;33m.\u001b[0m\u001b[0m_can_hold_identifiers_and_holds_name\u001b[0m\u001b[1;33m(\u001b[0m\u001b[0mname\u001b[0m\u001b[1;33m)\u001b[0m\u001b[1;33m:\u001b[0m\u001b[1;33m\u001b[0m\u001b[0m\n\u001b[0;32m   4375\u001b[0m                 \u001b[1;32mreturn\u001b[0m \u001b[0mself\u001b[0m\u001b[1;33m[\u001b[0m\u001b[0mname\u001b[0m\u001b[1;33m]\u001b[0m\u001b[1;33m\u001b[0m\u001b[0m\n\u001b[1;32m-> 4376\u001b[1;33m             \u001b[1;32mreturn\u001b[0m \u001b[0mobject\u001b[0m\u001b[1;33m.\u001b[0m\u001b[0m__getattribute__\u001b[0m\u001b[1;33m(\u001b[0m\u001b[0mself\u001b[0m\u001b[1;33m,\u001b[0m \u001b[0mname\u001b[0m\u001b[1;33m)\u001b[0m\u001b[1;33m\u001b[0m\u001b[0m\n\u001b[0m\u001b[0;32m   4377\u001b[0m \u001b[1;33m\u001b[0m\u001b[0m\n\u001b[0;32m   4378\u001b[0m     \u001b[1;32mdef\u001b[0m \u001b[0m__setattr__\u001b[0m\u001b[1;33m(\u001b[0m\u001b[0mself\u001b[0m\u001b[1;33m,\u001b[0m \u001b[0mname\u001b[0m\u001b[1;33m,\u001b[0m \u001b[0mvalue\u001b[0m\u001b[1;33m)\u001b[0m\u001b[1;33m:\u001b[0m\u001b[1;33m\u001b[0m\u001b[0m\n",
      "\u001b[1;31mAttributeError\u001b[0m: 'DataFrame' object has no attribute 'to_numpy'"
     ]
    }
   ],
   "source": [
    "df = pd.DataFrame(\n",
    "    [[1, 2, 3],\n",
    "     [4, 5, 6],\n",
    "     [7, 8, 9],\n",
    "     [10, 11, 12]])\n",
    " \n",
    "\n",
    "arr1 = df.to_numpy()\n",
    " \n",
    "print('Numpy Array:\\n', arr1)"
   ]
  }
 ],
 "metadata": {
  "kernelspec": {
   "display_name": "Python 3 (ipykernel)",
   "language": "python",
   "name": "python3"
  },
  "language_info": {
   "codemirror_mode": {
    "name": "ipython",
    "version": 3
   },
   "file_extension": ".py",
   "mimetype": "text/x-python",
   "name": "python",
   "nbconvert_exporter": "python",
   "pygments_lexer": "ipython3",
   "version": "3.11.4"
  }
 },
 "nbformat": 4,
 "nbformat_minor": 2
}
