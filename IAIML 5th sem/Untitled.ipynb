{
 "cells": [
  {
   "cell_type": "code",
   "execution_count": 3,
   "id": "6bbeccdb",
   "metadata": {},
   "outputs": [],
   "source": [
    "from sklearn.preprocessing import LabelEncoder"
   ]
  },
  {
   "cell_type": "code",
   "execution_count": 6,
   "id": "a7d813f4",
   "metadata": {},
   "outputs": [
    {
     "name": "stdout",
     "output_type": "stream",
     "text": [
      "[2 4 1 7 6 0 5 3]\n"
     ]
    }
   ],
   "source": [
    "data = ['Aryan','Deepanshi','Akshit','Vaibhav','Piyush','Abhay','Lokesh','Bhoomi']\n",
    "encoder = LabelEncoder()\n",
    "encoded_data = encoder.fit_transform(data)\n",
    "print(encoded_data)"
   ]
  },
  {
   "cell_type": "code",
   "execution_count": 7,
   "id": "cb190e40",
   "metadata": {},
   "outputs": [
    {
     "name": "stdout",
     "output_type": "stream",
     "text": [
      "[[1. 0. 0. 0. 0.]\n",
      " [0. 0. 0. 0. 1.]\n",
      " [0. 1. 0. 0. 0.]\n",
      " [0. 0. 1. 0. 0.]\n",
      " [0. 0. 0. 1. 0.]]\n"
     ]
    }
   ],
   "source": [
    "from sklearn.preprocessing import OneHotEncoder\n",
    "import pandas as pd\n",
    "\n",
    "data = pd.DataFrame({'Fruits':['apple','orange','banana','grapes','mango']})\n",
    "encoder = OneHotEncoder()\n",
    "encoded_data = encoder.fit_transform(data[['Fruits']])\n",
    "print(encoded_data.toarray())"
   ]
  },
  {
   "cell_type": "code",
   "execution_count": 8,
   "id": "86a14352",
   "metadata": {},
   "outputs": [
    {
     "name": "stdout",
     "output_type": "stream",
     "text": [
      "[3, 3, 3, 3, 3, 3, 3, 3, 3]\n"
     ]
    }
   ],
   "source": [
    "data = ['low','medium','high','low','medium','high','high','low','medium']\n",
    "ordinal_mapping = {'low':3,'medium':3,'high':3}\n",
    "encoded_data = [ordinal_mapping[val] for val in data]\n",
    "print(encoded_data)"
   ]
  },
  {
   "cell_type": "code",
   "execution_count": 9,
   "id": "b792531c",
   "metadata": {},
   "outputs": [
    {
     "name": "stdout",
     "output_type": "stream",
     "text": [
      "   Category_0  Category_1\n",
      "0           0           1\n",
      "1           1           0\n",
      "2           1           1\n",
      "3           0           1\n",
      "4           1           0\n",
      "5           1           1\n",
      "6           0           1\n",
      "7           0           1\n"
     ]
    }
   ],
   "source": [
    "import category_encoders as ce\n",
    "data = pd.DataFrame({'Category':[3,2,1,3,2,1,3,3]})\n",
    "encoder = ce.BinaryEncoder(cols=['Category'])\n",
    "encoded_data = encoder.fit_transform(data)\n",
    "print(encoded_data)"
   ]
  },
  {
   "cell_type": "code",
   "execution_count": 10,
   "id": "d9780f99",
   "metadata": {},
   "outputs": [
    {
     "name": "stdout",
     "output_type": "stream",
     "text": [
      "Original Data:\n",
      "     Performance    Size\n",
      "0           Good   small\n",
      "1           Fair   large\n",
      "2      Excellent  medium\n",
      "3        Average  medium\n",
      "4  Below Average   small\n",
      "Dummy Encoded Data:\n",
      "   Performance_Average  Performance_Below Average  Performance_Excellent  \\\n",
      "0                    0                          0                      0   \n",
      "1                    0                          0                      0   \n",
      "2                    0                          0                      1   \n",
      "3                    1                          0                      0   \n",
      "4                    0                          1                      0   \n",
      "\n",
      "   Performance_Fair  Performance_Good  Size_large  Size_medium  Size_small  \n",
      "0                 0                 1           0            0           1  \n",
      "1                 1                 0           1            0           0  \n",
      "2                 0                 0           0            1           0  \n",
      "3                 0                 0           0            1           0  \n",
      "4                 0                 0           0            0           1  \n"
     ]
    }
   ],
   "source": [
    "import pandas as pd\n",
    "\n",
    "data = pd.DataFrame({\n",
    "    'Performance': ['Good', 'Fair', 'Excellent', 'Average', 'Below Average'],\n",
    "    'Size': ['small', 'large', 'medium', 'medium', 'small']\n",
    "})\n",
    "\n",
    "# Perform dummy encoding\n",
    "encoded_data = pd.get_dummies(data, columns=['Performance', 'Size'])\n",
    "\n",
    "print(\"Original Data:\")\n",
    "print(data)\n",
    "print(\"Dummy Encoded Data:\")\n",
    "print(encoded_data)"
   ]
  },
  {
   "cell_type": "code",
   "execution_count": 11,
   "id": "7ab35bf3",
   "metadata": {},
   "outputs": [
    {
     "name": "stdout",
     "output_type": "stream",
     "text": [
      "Original Data:\n",
      "  Category  Category_Count\n",
      "0        A               4\n",
      "1        B               3\n",
      "2        A               4\n",
      "3        C               3\n",
      "4        B               3\n",
      "5        C               3\n",
      "6        A               4\n",
      "7        A               4\n",
      "8        B               3\n",
      "9        C               3\n"
     ]
    }
   ],
   "source": [
    "import pandas as pd\n",
    "from collections import Counter\n",
    "\n",
    "\n",
    "data = pd.DataFrame({\n",
    "    'Category': ['A', 'B', 'A', 'C', 'B', 'C', 'A', 'A', 'B', 'C']\n",
    "})\n",
    "\n",
    "\n",
    "category_counts = Counter(data['Category'])\n",
    "\n",
    "\n",
    "data['Category_Count'] = data['Category'].map(category_counts)\n",
    "\n",
    "print(\"Original Data:\")\n",
    "print(data)\n"
   ]
  }
 ],
 "metadata": {
  "kernelspec": {
   "display_name": "Python 3 (ipykernel)",
   "language": "python",
   "name": "python3"
  },
  "language_info": {
   "codemirror_mode": {
    "name": "ipython",
    "version": 3
   },
   "file_extension": ".py",
   "mimetype": "text/x-python",
   "name": "python",
   "nbconvert_exporter": "python",
   "pygments_lexer": "ipython3",
   "version": "3.11.4"
  }
 },
 "nbformat": 4,
 "nbformat_minor": 5
}
